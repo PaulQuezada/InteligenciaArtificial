{
  "nbformat": 4,
  "nbformat_minor": 0,
  "metadata": {
    "colab": {
      "provenance": [],
      "authorship_tag": "ABX9TyMktRSxwYtCoQR6Q9v6eKv0",
      "include_colab_link": true
    },
    "kernelspec": {
      "name": "python3",
      "display_name": "Python 3"
    },
    "language_info": {
      "name": "python"
    }
  },
  "cells": [
    {
      "cell_type": "markdown",
      "metadata": {
        "id": "view-in-github",
        "colab_type": "text"
      },
      "source": [
        "<a href=\"https://colab.research.google.com/github/PaulQuezada/InteligenciaArtificial/blob/main/PerceptronLearningRule/PLearningRule.ipynb\" target=\"_parent\"><img src=\"https://colab.research.google.com/assets/colab-badge.svg\" alt=\"Open In Colab\"/></a>"
      ]
    },
    {
      "cell_type": "markdown",
      "source": [
        "# Perceptron Learning Rule\n",
        "\n",
        "1) En el programa inicializamos un perceptron con pesos aleatorios .\n",
        "\n",
        "2) Se lleeran un conjunto de datos de entrenamiento desde un archivo(segun un archivo en donde creamos los datos ficticios), donde cada linea en el excel contiene dos entradas binarias y una salida binaria. \\\n",
        "\n",
        "3)En la ejecucion, se entrenara el perceptron con estos datos utilizando la regla de aprendizaje del perceptron. \\\n",
        "\n",
        "4) Luego se realizara el entrenamiento hasta que el perceptron clasifique correctamente todas las entradas o de otra forma, se alcance un numero maximo de iteraciones.\n",
        "\n",
        "5) Todos los recursos ocupados apra este laboratorio se encontraran en este repositorio de github incluyendo el propio colab: https://github.com/PaulQuezada/InteligenciaArtificial/tree/main/PerceptronLearningRule"
      ],
      "metadata": {
        "id": "ByUnV7r4ez8J"
      }
    },
    {
      "cell_type": "code",
      "execution_count": null,
      "metadata": {
        "colab": {
          "base_uri": "https://localhost:8080/"
        },
        "id": "oVKKUOVteyAu",
        "outputId": "0c47397d-cff7-4d6c-d0b1-e2549d94db6d"
      },
      "outputs": [
        {
          "output_type": "execute_result",
          "data": {
            "text/plain": [
              "{'Bias - Weight': 0.01,\n",
              " 'Weight para la entrada 1': -0.01,\n",
              " 'Weight para la entradat 2': -0.01}"
            ]
          },
          "metadata": {},
          "execution_count": 9
        }
      ],
      "source": [
        "import numpy as np\n",
        "\n",
        "# En esta calse implementamos la regla de aprendizaje del perceptron\n",
        "class Perceptron:\n",
        "    def __init__(self, no_of_inputs, threshold=100, learning_rate=0.01):\n",
        "        # Inicializamos los parametros\n",
        "        self.threshold = threshold\n",
        "        self.learning_rate = learning_rate\n",
        "        self.weights = np.zeros(no_of_inputs + 1)\n",
        "\n",
        "    def predict(self, inputs):\n",
        "        # Funcion de activacion\n",
        "        summation = np.dot(inputs, self.weights[1:]) + self.weights[0]\n",
        "        # Funcion escalon\n",
        "        if summation > 0:\n",
        "            # Si la suma es mayor a 0, la salida es 1\n",
        "          activation = 1\n",
        "        else:\n",
        "            # Si la suma es menor a 0, la salida es 0\n",
        "          activation = 0\n",
        "        return activation\n",
        "\n",
        "    def train(self, training_inputs, labels):\n",
        "        # Entrenamiento del perceptron\n",
        "        for _ in range(self.threshold):\n",
        "            # Iteramos sobre los datos de entrenamiento\n",
        "            for inputs, label in zip(training_inputs, labels):\n",
        "                # Prediccion del perceptron\n",
        "                prediction = self.predict(inputs)\n",
        "                self.weights[1:] += self.learning_rate * (label - prediction) * inputs\n",
        "                self.weights[0] += self.learning_rate * (label - prediction)\n",
        "\n",
        "# Funcion para leer los datos de entrenamiento desde un archivo\n",
        "def read_training_data(filename):\n",
        "  # Leemos kos datos\n",
        "    data = np.loadtxt(filename, delimiter=',')\n",
        "    # Separar las entradas de las salidas esperadas\n",
        "    X = data[:, :-1] # Entradas esperadas\n",
        "    y = data[:, -1] # Salidas esperadas\n",
        "    return X, y\n",
        "\n",
        "# Archivos conn los datos para el entrenamento\n",
        "X, y = read_training_data('https://raw.githubusercontent.com/PaulQuezada/InteligenciaArtificial/main/Perceptron%20Learning%20Rule/perceptron_training_data.csv')\n",
        "\n",
        "# Crear un perceptron con 2 entradas (ya que tenemos solo 2 caracteristicas en nuestro excel con los datos inventados)\n",
        "perceptron = Perceptron(no_of_inputs=2)\n",
        "\n",
        "# Entrenamos el perceptron\n",
        "perceptron.train(X, y)\n",
        "\n",
        "# Imprimimos los pesos del perceptron\n",
        "bias_weight = perceptron.weights[0]\n",
        "input1_weight = perceptron.weights[1]\n",
        "input2_weight = perceptron.weights[2]\n",
        "\n",
        "weights_dict = {\n",
        "    \"Bias - Weight\": bias_weight,\n",
        "    \"Weight para la entrada 1\": input1_weight,\n",
        "    \"Weight para la entradat 2\": input2_weight\n",
        "}\n",
        "\n",
        "weights_dict"
      ]
    }
  ]
}