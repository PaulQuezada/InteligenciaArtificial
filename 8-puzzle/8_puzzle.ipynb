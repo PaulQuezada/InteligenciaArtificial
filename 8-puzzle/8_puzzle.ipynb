{
  "nbformat": 4,
  "nbformat_minor": 0,
  "metadata": {
    "colab": {
      "provenance": [],
      "authorship_tag": "ABX9TyOL3rW47WaO3tZHkC9xYpbP",
      "include_colab_link": true
    },
    "kernelspec": {
      "name": "python3",
      "display_name": "Python 3"
    },
    "language_info": {
      "name": "python"
    }
  },
  "cells": [
    {
      "cell_type": "markdown",
      "metadata": {
        "id": "view-in-github",
        "colab_type": "text"
      },
      "source": [
        "<a href=\"https://colab.research.google.com/github/PaulQuezada/InteligenciaArtificial/blob/main/8-puzzle/8_puzzle.ipynb\" target=\"_parent\"><img src=\"https://colab.research.google.com/assets/colab-badge.svg\" alt=\"Open In Colab\"/></a>"
      ]
    },
    {
      "cell_type": "markdown",
      "source": [
        "#**8 Puzzle**\n",
        "1. ¿Que es? \\\n",
        "El 8-puzzle es un popular rompecabezas deslizante que se juega en una cuadrícula 3x3. El rompecabezas consiste en una cuadrícula con 8 fichas numeradas y un espacio vacío, lo que da un total de 9 posiciones. El objetivo del juego es reorganizar las fichas numeradas en orden ascendente, generalmente desde 1 hasta 8, dejando el espacio vacío en la última posición."
      ],
      "metadata": {
        "id": "5kNcinp08DEv"
      }
    },
    {
      "cell_type": "markdown",
      "source": [
        "#**Desarrollando el puzzle con busqueda en anchura**\n",
        "\n",
        "Primero, para desarrollar el puzzle con BFS, lo primero que tenemos que definir sera la matriz, la cual la estableceremos de la siguiente manera. \\\n",
        "Este sera nuestro tablero objetivo, el cual sera aleatorio, es posible sino revisamos el tablero, que el tablero objetivo no sea solucionable, entonces verificaremos el tablero hasta que sea valido con la funcion que se mostrara a continuacion."
      ],
      "metadata": {
        "id": "SvG-P43EA3ei"
      }
    },
    {
      "cell_type": "code",
      "execution_count": 7,
      "metadata": {
        "id": "iqYUAxr08Brc",
        "colab": {
          "base_uri": "https://localhost:8080/"
        },
        "outputId": "7bd03797-02af-4b57-8964-d1ebd7c8221d"
      },
      "outputs": [
        {
          "output_type": "stream",
          "name": "stdout",
          "text": [
            "Tablero objetivo:  [[3, 2, 4], [6, 5, 8], ['_', 7, 1]]\n"
          ]
        }
      ],
      "source": [
        "import random\n",
        "\n",
        "def es_soluble(tablero):\n",
        "    aplanado = [num for fila in tablero for num in fila if num != \"_\"]\n",
        "    inversiones = 0\n",
        "\n",
        "    for i in range(len(aplanado)):\n",
        "        for j in range(i + 1, len(aplanado)):\n",
        "            if aplanado[i] > aplanado[j]:\n",
        "                inversiones += 1\n",
        "\n",
        "    return inversiones % 2 == 0\n",
        "\n",
        "def desordenar_tablero(tablero):\n",
        "    aplanado = [num for fila in tablero for num in fila]\n",
        "    random.shuffle(aplanado)\n",
        "    nuevo_tablero = [aplanado[i:i+3] for i in range(0, 9, 3)]\n",
        "\n",
        "    intentos = 0\n",
        "    while not es_soluble(nuevo_tablero):\n",
        "        intentos += 1\n",
        "        print(f\"Intento {intentos}: El tablero no es soluble, creando uno nuevo...\")\n",
        "        random.shuffle(aplanado)\n",
        "        nuevo_tablero = [aplanado[i:i+3] for i in range(0, 9, 3)]\n",
        "\n",
        "    return nuevo_tablero\n",
        "tablero_inicial = [[1, 2, 3],\n",
        "                  [5, 6, \"_\"],\n",
        "                  [7, 8, 4]]\n",
        "\n",
        "tablero_objetivo = desordenar_tablero(tablero_inicial)\n",
        "print(\"Tablero objetivo: \",tablero_objetivo)"
      ]
    },
    {
      "cell_type": "markdown",
      "source": [
        "Luego, estableceremos un tablero inicial, al principio lo habia hecho aleatorio, pero hay un problema con esto, debido a que no todos los tableros iniciales del 8-puzzle son solucionables, por lo cual, declararemos un tablero inicial que contenga al menos 1 solucion.\n"
      ],
      "metadata": {
        "id": "brO7KolhCqSp"
      }
    },
    {
      "cell_type": "code",
      "source": [
        "tablero_inicial = [[1, 2, 3],\n",
        "                  [5, 6, \"_\"],\n",
        "                  [7, 8, 4]]"
      ],
      "metadata": {
        "id": "t0wBI_rOD6Ux"
      },
      "execution_count": 8,
      "outputs": []
    },
    {
      "cell_type": "markdown",
      "source": [
        "Las librerias que se listaran a continuacion son importantes por las siguientes razones: \\\n",
        "1. Libreria time: Nos servira para poder medir el tiempo que se desmora el algoritmo en encontrar la solucion.\n",
        "2. Libreria deque: deque es un tipo de listado en donde ponemos insertar valores al comienzo o final de la lista. Es como una fusion entre las colas y las pilas. Es importante en este caso para utilizar la cola en el algoritmo."
      ],
      "metadata": {
        "id": "Z6u8onPGErPy"
      }
    },
    {
      "cell_type": "code",
      "source": [
        "import time\n",
        "from collections import deque"
      ],
      "metadata": {
        "id": "dS9ILZyMC98y"
      },
      "execution_count": 9,
      "outputs": []
    },
    {
      "cell_type": "markdown",
      "source": [
        "## **Clase Nodo**\n",
        "\n",
        "Crearemos una clase llamado **Nodo**, cada nodo contendra:\n",
        "1. **El tablero**\n",
        "2. **El padre**\n",
        "3. **La accion** que se desarrollo para llegar al tablero que contiene \\\n",
        "**Observacion:** El nodo inicial no contiene padre.\n",
        "\n",
        "## **Funciones de la clase Nodo**\n",
        "1. **init**: Se instancian los datos del nodo con la clase\n",
        "2. **obtener_vacio**: su unica funcion es mostrar la posicion del espacio en el tablero.\n",
        "3. **sucesores**: Esta, buscara todos los sucesores posibles del tablero del nodo y los retornara en una lista."
      ],
      "metadata": {
        "id": "HfPK4AzEDCoD"
      }
    },
    {
      "cell_type": "code",
      "source": [
        "class Nodo:\n",
        "    # Clase que representa un nodo en el arbol de busqueda\n",
        "    def __init__(self, tablero, padre=None, accion=None):\n",
        "        self.tablero = tablero\n",
        "        self.padre = padre\n",
        "        self.accion = accion\n",
        "    # Metodo para obtener la posicion del espacio en el tablero\n",
        "    def obtener_vacio(self):\n",
        "        for i in range(3):\n",
        "            for j in range(3):\n",
        "                if self.tablero[i][j] == '_':\n",
        "                    return (i, j)\n",
        "\n",
        "    # Metodo para obtener los sucesores validos del tablero\n",
        "    def sucesores(self):\n",
        "        i, j = self.obtener_vacio()\n",
        "        movimientos = [\n",
        "            (0, 1), # Moviemiento hacia Derecha\n",
        "            (1, 0), # Moviemiento hacia Abajo\n",
        "            (0, -1),# Moviemiento hacia Izquierda\n",
        "            (-1, 0)]# Moviemiento hacia Arriba\n",
        "\n",
        "        # Generamos los sucesores\n",
        "        sucesores = []\n",
        "\n",
        "        for di, dj in movimientos:\n",
        "            # Validamos que el movimiento este dentro del tablero\n",
        "            ni = i+di\n",
        "            nj = j+dj\n",
        "            if 0 <= ni < 3 and 0 <= nj < 3:\n",
        "                # Si el movimiento es valido, generamos un nuevo tablero y lo agregamos a la lista de los sucesores\n",
        "                nuevo_tablero = [fila.copy() for fila in self.tablero]\n",
        "                nuevo_tablero[i][j], nuevo_tablero[ni][nj] = nuevo_tablero[ni][nj], nuevo_tablero[i][j]\n",
        "                sucesores.append(Nodo(nuevo_tablero, self, (ni, nj)))\n",
        "\n",
        "        return sucesores"
      ],
      "metadata": {
        "id": "KKRYsO4cDPfI"
      },
      "execution_count": 10,
      "outputs": []
    },
    {
      "cell_type": "markdown",
      "source": [
        "## **Funcion BFS**\n",
        "\n",
        "En esta funcion, crearemos un conjunto para almacenar los tableros visitiados (Lo realizo con **set()**, debido a que es mucho mas facil buscar los valores repetidos). Tambien crearemos la cola, en donde guardaremos los nodos que generen los movimientos posibles a lo cual llamamos **sucesores**. \\\n",
        "\n",
        "Recorreremos los sucesores del nodo actual, los agregaremos a nuestro conjunto de visitados, verificamos si este nodo no ha sido recorrido, en caso de que este no haya sido recorrido lo agregaremos a la cola para posteriormente calculas sus sucesores hasta encontrar una solucion. \\\n",
        "\n",
        "\n",
        "Por naturaleza, el algoritmo BFS siempre encontrara primero la solucion mas corta. por lo que no es necesario recorrer todos las soluciones posibles y compararlas.\n"
      ],
      "metadata": {
        "id": "sZoFeVcoHhIb"
      }
    },
    {
      "cell_type": "code",
      "source": [
        "def BFS(inicio, objetivo):\n",
        "    visitados = set() # Creamos un conjunto para almacenar los tableros visitados\n",
        "    cola = deque([Nodo(inicio)]) # Creamos una cola para almacenar los nodos que se van a expandir\n",
        "\n",
        "    while cola:\n",
        "        nodo = cola.popleft() # Sacamos el primer nodo de la cola\n",
        "        if nodo.tablero == objetivo: # Verificamos si el tablero del nodo es el objetivo\n",
        "            return nodo # Si lo es, retornamos el nodo\n",
        "\n",
        "        for sucesor in nodo.sucesores(): # Generamos los sucesores del nodo\n",
        "            tablero_str = str(sucesor.tablero) # Convertimos el tablero a string para poderlo almacenar en el conjunto (Esto lo realizamos para hacer mas facil la comparacion entre los tableros)\n",
        "            if tablero_str not in visitados: # Verificamos que el tablero no haya sido visitado\n",
        "                visitados.add(tablero_str) # Si no ha sido visitado, lo agregamos al conjunto de visitados\n",
        "                cola.append(sucesor) # Agregamos el sucesor a la cola\n",
        "\n",
        "    return None"
      ],
      "metadata": {
        "id": "HCNOno3yHkEt"
      },
      "execution_count": 11,
      "outputs": []
    },
    {
      "cell_type": "markdown",
      "source": [
        "## **Ejecucion del algoritmo**\n",
        "\n",
        "Por ultimo, ejecutaremos el algorimo. Al haber agregado el padre en cada nodo, con el ultimo nodo del camino podemos saber todo el recorrido y las acciones que se realizaron, por lo cual, recorreremos recursivamente hasta encontrar el nodo inicial, estos nodos los guardaremos en un arreglo llamado **camino** el cual le aplicaremos un **reserse** debido a que estamos recorriendo desde el nodo final hasta el inicial. \\\n",
        "\n",
        "Mostraremos ademas del camino que recorrio, los movimientos que se realizaron en total y el tiempo que se desmoro."
      ],
      "metadata": {
        "id": "F0nCemOaJtJI"
      }
    },
    {
      "cell_type": "code",
      "source": [
        "# Empezamos el cronometro\n",
        "start_time = time.time()\n",
        "\n",
        "# Ejecutamos el algoritmo BFS\n",
        "resultado = BFS(tablero_inicial, tablero_objetivo)\n",
        "# Si encontramos el camino lo imprimimos\n",
        "if resultado:\n",
        "    # Terminamos el cronometro\n",
        "    elapsed_time = time.time() - start_time\n",
        "    print(\"¡Solución encontrada!\")\n",
        "    camino = []\n",
        "    while resultado: # Recorremos el camino desde el nodo objetivo hasta el nodo inicial\n",
        "        camino.append(resultado.tablero)\n",
        "        resultado = resultado.padre\n",
        "    camino.reverse()\n",
        "    for paso in camino:\n",
        "        print(\"Movimiento numero:\", camino.index(paso))\n",
        "        for fila in paso:\n",
        "            print(fila)\n",
        "        print(\"--------------\")\n",
        "    print(\"Tiempo de ejecución: %.10f segundos.\" % elapsed_time)\n",
        "    print(\"Número de movimientos: \", len(camino)-1)\n",
        "else:\n",
        "     # Terminamos el cronometro\n",
        "    elapsed_time = time.time() - start_time\n",
        "    print(\"Tiempo de ejecución: %.10f segundos.\" % elapsed_time)\n",
        "    print(\"No se encontró solución.\")"
      ],
      "metadata": {
        "colab": {
          "base_uri": "https://localhost:8080/"
        },
        "id": "bGCuqsJWJ0k8",
        "outputId": "1d188192-2bc0-49a2-9cfc-e98dce8ccd86"
      },
      "execution_count": 12,
      "outputs": [
        {
          "output_type": "stream",
          "name": "stdout",
          "text": [
            "¡Solución encontrada!\n",
            "Movimiento numero: 0\n",
            "[1, 2, 3]\n",
            "[5, 6, '_']\n",
            "[7, 8, 4]\n",
            "--------------\n",
            "Movimiento numero: 1\n",
            "[1, 2, '_']\n",
            "[5, 6, 3]\n",
            "[7, 8, 4]\n",
            "--------------\n",
            "Movimiento numero: 2\n",
            "[1, '_', 2]\n",
            "[5, 6, 3]\n",
            "[7, 8, 4]\n",
            "--------------\n",
            "Movimiento numero: 3\n",
            "[1, 6, 2]\n",
            "[5, '_', 3]\n",
            "[7, 8, 4]\n",
            "--------------\n",
            "Movimiento numero: 4\n",
            "[1, 6, 2]\n",
            "[5, 3, '_']\n",
            "[7, 8, 4]\n",
            "--------------\n",
            "Movimiento numero: 5\n",
            "[1, 6, 2]\n",
            "[5, 3, 4]\n",
            "[7, 8, '_']\n",
            "--------------\n",
            "Movimiento numero: 6\n",
            "[1, 6, 2]\n",
            "[5, 3, 4]\n",
            "[7, '_', 8]\n",
            "--------------\n",
            "Movimiento numero: 7\n",
            "[1, 6, 2]\n",
            "[5, 3, 4]\n",
            "['_', 7, 8]\n",
            "--------------\n",
            "Movimiento numero: 8\n",
            "[1, 6, 2]\n",
            "['_', 3, 4]\n",
            "[5, 7, 8]\n",
            "--------------\n",
            "Movimiento numero: 9\n",
            "['_', 6, 2]\n",
            "[1, 3, 4]\n",
            "[5, 7, 8]\n",
            "--------------\n",
            "Movimiento numero: 10\n",
            "[6, '_', 2]\n",
            "[1, 3, 4]\n",
            "[5, 7, 8]\n",
            "--------------\n",
            "Movimiento numero: 11\n",
            "[6, 3, 2]\n",
            "[1, '_', 4]\n",
            "[5, 7, 8]\n",
            "--------------\n",
            "Movimiento numero: 12\n",
            "[6, 3, 2]\n",
            "['_', 1, 4]\n",
            "[5, 7, 8]\n",
            "--------------\n",
            "Movimiento numero: 13\n",
            "[6, 3, 2]\n",
            "[5, 1, 4]\n",
            "['_', 7, 8]\n",
            "--------------\n",
            "Movimiento numero: 14\n",
            "[6, 3, 2]\n",
            "[5, 1, 4]\n",
            "[7, '_', 8]\n",
            "--------------\n",
            "Movimiento numero: 15\n",
            "[6, 3, 2]\n",
            "[5, '_', 4]\n",
            "[7, 1, 8]\n",
            "--------------\n",
            "Movimiento numero: 16\n",
            "[6, 3, 2]\n",
            "['_', 5, 4]\n",
            "[7, 1, 8]\n",
            "--------------\n",
            "Movimiento numero: 17\n",
            "['_', 3, 2]\n",
            "[6, 5, 4]\n",
            "[7, 1, 8]\n",
            "--------------\n",
            "Movimiento numero: 18\n",
            "[3, '_', 2]\n",
            "[6, 5, 4]\n",
            "[7, 1, 8]\n",
            "--------------\n",
            "Movimiento numero: 19\n",
            "[3, 2, '_']\n",
            "[6, 5, 4]\n",
            "[7, 1, 8]\n",
            "--------------\n",
            "Movimiento numero: 20\n",
            "[3, 2, 4]\n",
            "[6, 5, '_']\n",
            "[7, 1, 8]\n",
            "--------------\n",
            "Movimiento numero: 21\n",
            "[3, 2, 4]\n",
            "[6, 5, 8]\n",
            "[7, 1, '_']\n",
            "--------------\n",
            "Movimiento numero: 22\n",
            "[3, 2, 4]\n",
            "[6, 5, 8]\n",
            "[7, '_', 1]\n",
            "--------------\n",
            "Movimiento numero: 23\n",
            "[3, 2, 4]\n",
            "[6, 5, 8]\n",
            "['_', 7, 1]\n",
            "--------------\n",
            "Tiempo de ejecución: 2.7901322842 segundos.\n",
            "Número de movimientos:  23\n"
          ]
        }
      ]
    },
    {
      "cell_type": "markdown",
      "source": [
        "# **Desarrollando el puzzle con busqueda en profundidad**\n",
        "Primero, para desarrollar el puzzle con DFS, en si, lo que cambia es la forma de buscar la solucion, para este problema en especifico NO es recomendable usar este tipo de busqueda, esto debido a que puede caer en un bucle infinito, un uso excesivo de memoria, entre otros.\n",
        "\n",
        "El codigo sera practicamente el mismo, solo que cambiaremos la forma de como agregamos y quitamos elementos a nuestro conjunto, en este caso no usaremos una cola, sino, una cola.\n",
        "\n",
        "A continuacion importamos las librerias."
      ],
      "metadata": {
        "id": "j__eRhd7LTdt"
      }
    },
    {
      "cell_type": "code",
      "source": [
        "import random\n",
        "import time\n",
        "from collections import deque"
      ],
      "metadata": {
        "id": "_00bBs_nBvFr"
      },
      "execution_count": 14,
      "outputs": []
    },
    {
      "cell_type": "markdown",
      "source": [
        "## **Declaramos el nodo inicial y objetivo**\n",
        "\n",
        "Declararemos el mismo nodo(que contiene el tablero) inicial para comparar los tiempos. Tambien en este punto declararemos el conjunto de visitados, para que la funcion **obtener_sucesores** de la clase **Nodo** pueda comparar los nodos sucesores con los nodos explorados.\n",
        "\n",
        "El tablero objetivo sera aleatorio igual que en el algoritmo de **BFS**."
      ],
      "metadata": {
        "id": "2ZHPkT3yFriW"
      }
    },
    {
      "cell_type": "code",
      "source": [
        "import random\n",
        "\n",
        "def es_soluble(tablero):\n",
        "    aplanado = [num for fila in tablero for num in fila if num != \"_\"]\n",
        "    inversiones = 0\n",
        "\n",
        "    for i in range(len(aplanado)):\n",
        "        for j in range(i + 1, len(aplanado)):\n",
        "            if aplanado[i] > aplanado[j]:\n",
        "                inversiones += 1\n",
        "\n",
        "    return inversiones % 2 == 0\n",
        "\n",
        "def desordenar_tablero(tablero):\n",
        "    aplanado = [num for fila in tablero for num in fila]\n",
        "    random.shuffle(aplanado)\n",
        "    nuevo_tablero = [aplanado[i:i+3] for i in range(0, 9, 3)]\n",
        "\n",
        "    intentos = 0\n",
        "    while not es_soluble(nuevo_tablero):\n",
        "        intentos += 1\n",
        "        print(f\"Intento {intentos}: El tablero no es soluble, creando uno nuevo...\")\n",
        "        random.shuffle(aplanado)\n",
        "        nuevo_tablero = [aplanado[i:i+3] for i in range(0, 9, 3)]\n",
        "\n",
        "    return nuevo_tablero\n",
        "tablero_inicial = [[1, 2, 3],\n",
        "                  [5, 6, \"_\"],\n",
        "                  [7, 8, 4]]\n",
        "\n",
        "tablero_objetivo = desordenar_tablero(tablero_inicial)\n",
        "print(\"Tablero objetivo: \",tablero_objetivo)\n",
        "\n",
        "visitados = set()"
      ],
      "metadata": {
        "id": "SZkz7EnFFz1X",
        "colab": {
          "base_uri": "https://localhost:8080/"
        },
        "outputId": "1922d06e-a984-468d-cc7e-d93e660c22c3"
      },
      "execution_count": 15,
      "outputs": [
        {
          "output_type": "stream",
          "name": "stdout",
          "text": [
            "Tablero objetivo:  [['_', 7, 2], [8, 1, 4], [6, 5, 3]]\n"
          ]
        }
      ]
    },
    {
      "cell_type": "markdown",
      "source": [
        "## **Clase Nodo**\n",
        "\n",
        "Agregamos nuestra clase Nodo, es practicamente igual a la que se uso en BFS, solo que en este comparamos los sucesores con la lista de los visitados."
      ],
      "metadata": {
        "id": "_GTaEelgBzIT"
      }
    },
    {
      "cell_type": "code",
      "source": [
        "class Nodo:\n",
        "    # Clase que representa un nodo en el arbol de busqueda\n",
        "    def __init__(self, tablero=None, padre=None, accion=None):\n",
        "        self.tablero = tablero\n",
        "        self.padre = padre\n",
        "        self.accion = accion\n",
        "    # Metodo para obtener la posicion del espacio en el tablero\n",
        "    def obtener_vacio(self):\n",
        "        for i in range(3):\n",
        "            for j in range(3):\n",
        "                if self.tablero[i][j] == '_':\n",
        "                    return (i, j)\n",
        "\n",
        "    def obtener_sucesores(self):\n",
        "        i, j = self.obtener_vacio()\n",
        "        movimientos = [\n",
        "            (0, 1), # Moviemiento hacia Derecha\n",
        "            (1, 0), # Moviemiento hacia Abajo\n",
        "            (0, -1),# Moviemiento hacia Izquierda\n",
        "            (-1, 0) # Moviemiento hacia Arriba\n",
        "        ]\n",
        "\n",
        "        sucesores = []\n",
        "\n",
        "        for di, dj in movimientos:\n",
        "            ni = i + di\n",
        "            nj = j + dj\n",
        "            if 0 <= ni < 3 and 0 <= nj < 3:\n",
        "                nuevo_tablero = [fila.copy() for fila in self.tablero]\n",
        "                nuevo_tablero[i][j], nuevo_tablero[ni][nj] = nuevo_tablero[ni][nj], nuevo_tablero[i][j]\n",
        "                tablero_str = str(nuevo_tablero)\n",
        "                if tablero_str not in visitados:\n",
        "                    visitados.add(tablero_str)\n",
        "                    sucesores.append(Nodo(nuevo_tablero, self, (ni, nj)))\n",
        "\n",
        "        return sucesores"
      ],
      "metadata": {
        "id": "1ixZfrosB2cI"
      },
      "execution_count": 16,
      "outputs": []
    },
    {
      "cell_type": "markdown",
      "source": [
        "## **Funcion DFS**\n",
        "\n",
        "En este caso tendremos una pila, en donde en cada iteracion quitamos el primer elemento de la pila, luego, agregamos los sucesores al final de la fila, de forma, cuando algun nodo no contenga mas nodos no visitados, lo quitara de la pila y seguira con los sucesores que se generaron anteriormente, de esta forma, siempre recorrera hasta el final de un nodo, en donde continuara con los nodos anteriores que no fueron explorados todavia.\n",
        "\n",
        "Con esta explicacion, podemos decir, que si existe una solucion la encontrara, el problema es a que costo, en el peor de los casos, recorrera todos los caminos posibles hasta encontrar la solucion, lo cual es costoso en cuanto a tiempo y memoria."
      ],
      "metadata": {
        "id": "tH68h6BjCLrs"
      }
    },
    {
      "cell_type": "code",
      "source": [
        "def DFS(inicio, objetivo):\n",
        "    pila = deque([Nodo(inicio)])\n",
        "    while pila:\n",
        "        nodo = pila.pop()  # Pop obtiene y remueve el último elemento, que es el comportamiento de una pila.\n",
        "        if nodo.tablero == objetivo:\n",
        "            return nodo\n",
        "\n",
        "        sucesores = nodo.obtener_sucesores()  # Cambiamos el método para que devuelva todos los sucesores.\n",
        "        for sucesor in sucesores:\n",
        "            pila.append(sucesor)\n",
        "\n",
        "    return None"
      ],
      "metadata": {
        "id": "bHV85eU8E0K7"
      },
      "execution_count": 17,
      "outputs": []
    },
    {
      "cell_type": "markdown",
      "source": [
        "## **Ejecucion del algoritmo DFS**\n",
        "\n",
        "Por ultimo, ejecutaremos el algoritmo. En este caso no mostrare los movimientos, porque pueden ser mucho mas grandes que el caminos mas corto, en este apartado podremos ver la cantidad de movimientos que se realizaron para resolver el puzzle y el tiempo que se desmoro."
      ],
      "metadata": {
        "id": "6Vs_CsUaFEdF"
      }
    },
    {
      "cell_type": "code",
      "source": [
        "# Empezamos el cronometro\n",
        "start_time = time.time()\n",
        "# Ejecutamos el algoritmo BFS\n",
        "resultado = DFS(tablero_inicial, tablero_objetivo)\n",
        "# Si encontramos el camino lo imprimimos\n",
        "if resultado:\n",
        "    # Terminamos el cronometro\n",
        "    elapsed_time = time.time() - start_time\n",
        "    print(\"¡Solución encontrada!\")\n",
        "    camino = []\n",
        "    while resultado: # Recorremos el camino desde el nodo objetivo hasta el nodo inicial\n",
        "        camino.append(resultado.tablero)\n",
        "        resultado = resultado.padre\n",
        "    print(\"Tiempo de ejecución: %.10f segundos.\" % elapsed_time)\n",
        "    print(\"Número de movimientos: \", len(camino)-1)\n",
        "else:\n",
        "     # Terminamos el cronometro\n",
        "    elapsed_time = time.time() - start_time\n",
        "    print(\"Tiempo de ejecución: %.10f segundos.\" % elapsed_time)\n",
        "    print(\"No se encontró solución.\")\n"
      ],
      "metadata": {
        "colab": {
          "base_uri": "https://localhost:8080/"
        },
        "id": "QwWCLHkIFe1z",
        "outputId": "fcdf3012-5969-4b59-e894-48ef03913b65"
      },
      "execution_count": 18,
      "outputs": [
        {
          "output_type": "stream",
          "name": "stdout",
          "text": [
            "¡Solución encontrada!\n",
            "Tiempo de ejecución: 1.7220132351 segundos.\n",
            "Número de movimientos:  66019\n"
          ]
        }
      ]
    },
    {
      "cell_type": "markdown",
      "source": [
        "# **Conlusiones**\n",
        "\n",
        "Los resultados subrayan la importancia de seleccionar el algoritmo adecuado segun el contexto y los requisitos especificos del problema. Mientras que **BFS** proporcionó una solución más rápida y eficiente para el **8-puzzle** en este caso, **DFS** podría ser preferible en situaciones donde el espacio de memoria es una preocupación y la eficiencia de la solución no es crítica."
      ],
      "metadata": {
        "id": "zzL9vSo4G25S"
      }
    }
  ]
}